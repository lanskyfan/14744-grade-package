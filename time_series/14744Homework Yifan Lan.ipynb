{
  "nbformat": 4,
  "nbformat_minor": 0,
  "metadata": {
    "colab": {
      "provenance": []
    },
    "kernelspec": {
      "name": "python3",
      "display_name": "Python 3"
    }
  },
  "cells": [
    {
      "cell_type": "markdown",
      "metadata": {
        "id": "7YYdtMW7eZjk"
      },
      "source": [
        "# 14744 Homework (10 pts)\n",
        "\n",
        "## Training Time Series Models"
      ]
    },
    {
      "cell_type": "markdown",
      "metadata": {
        "id": "5gM3LeXM5I2D"
      },
      "source": [
        "## **Due:** Wednesday March 15\n",
        "\n",
        "## Submission Instructions\n",
        "\n",
        "*   Save a copy of this notebook in your Google Drive by clicking File->Save a copy in Drive\n",
        "*   Use the Python 3 programming language to complete the programming exercises in the provided code cells\n",
        "*   Make sure that all your code and code output appear correctly\n",
        "*   Submit **both** of the following copies of your notebook on Canvas\n",
        "    - .pdf version (by printing your notebook to pdf)\n",
        "    - .ipynb version (by clicking File->Download .ipynb)"
      ]
    },
    {
      "cell_type": "markdown",
      "metadata": {
        "id": "3xhCdZ1r8ySJ"
      },
      "source": [
        "### Starter code\n",
        "\n",
        "To get started run the cell below by clicking its 'play' icon. If you want to run this cell a second time, you may need to reset the runtime by clicking Runtime->Factory reset runtime."
      ]
    },
    {
      "cell_type": "code",
      "metadata": {
        "id": "DiDmVIUXKc4E",
        "colab": {
          "base_uri": "https://localhost:8080/"
        },
        "outputId": "1acfff62-bfe5-4584-9486-80778335c576"
      },
      "source": [
        "## DO NOT EDIT THIS CELL\n",
        "\n",
        "# Import libraries\n",
        "import numpy as np\n",
        "import matplotlib.pyplot as plt\n",
        "import os\n",
        "\n",
        "# Download and unzip accelerometer trace data\n",
        "!mkdir ./data/\n",
        "!wget https://www.andrew.cmu.edu/user/dvaroday/14744/data.zip\n",
        "!mv data.zip ./data\n",
        "!unzip ./data/data.zip -d ./data\n",
        "!rm ./data/data.zip\n",
        "\n",
        "# Initialize paths and list of raw trace filenames\n",
        "ground_truth_path = '/content/data/ground_truth/'\n",
        "\n",
        "path = '/content/data/raw_traces/'\n",
        "filenames = sorted(os.listdir(path))\n",
        "\n",
        "# Define functions presented in lecture\n",
        "def brush_indicator(filename, alpha, threshold):\n",
        "  acceleration = np.genfromtxt(path+filename).astype(float)\n",
        "  jerk = np.zeros(acceleration.shape)\n",
        "  jerk[1:,:] = acceleration[1:,:] - acceleration[:-1,:]\n",
        "  jerk_magnitude = np.sqrt(np.sum(jerk**2, axis=1))\n",
        "  smoothed = np.zeros(jerk_magnitude.shape)\n",
        "  smoothed[0] = jerk_magnitude[0]\n",
        "  for i in range(1, len(smoothed)):\n",
        "    smoothed[i] = alpha * jerk_magnitude[i] + (1-alpha) * smoothed[i-1]\n",
        "  indicator = smoothed > threshold\n",
        "  return indicator\n",
        "\n",
        "def error_cost_function(filename, alpha, threshold):\n",
        "  indicator = brush_indicator(filename, alpha, threshold)\n",
        "  ground_truth = np.genfromtxt(ground_truth_path + 'Truth_' + filename)\n",
        "  cost = np.sum(indicator != ground_truth)/len(indicator)\n",
        "  return cost"
      ],
      "execution_count": 1,
      "outputs": [
        {
          "output_type": "stream",
          "name": "stdout",
          "text": [
            "--2023-03-13 07:26:35--  https://www.andrew.cmu.edu/user/dvaroday/14744/data.zip\n",
            "Resolving www.andrew.cmu.edu (www.andrew.cmu.edu)... 128.2.42.53\n",
            "Connecting to www.andrew.cmu.edu (www.andrew.cmu.edu)|128.2.42.53|:443... connected.\n",
            "HTTP request sent, awaiting response... 200 OK\n",
            "Length: 94022 (92K) [application/zip]\n",
            "Saving to: ‘data.zip’\n",
            "\n",
            "\rdata.zip              0%[                    ]       0  --.-KB/s               \rdata.zip            100%[===================>]  91.82K  --.-KB/s    in 0.1s    \n",
            "\n",
            "2023-03-13 07:26:35 (928 KB/s) - ‘data.zip’ saved [94022/94022]\n",
            "\n",
            "Archive:  ./data/data.zip\n",
            "  inflating: ./data/ground_truth/Truth_Accelerometer-2011-04-11-13-28-18-brush_teeth-f1.txt  \n",
            "  inflating: ./data/ground_truth/Truth_Accelerometer-2011-04-11-13-29-54-brush_teeth-f1.txt  \n",
            "  inflating: ./data/ground_truth/Truth_Accelerometer-2011-05-30-08-35-11-brush_teeth-f1.txt  \n",
            "  inflating: ./data/ground_truth/Truth_Accelerometer-2011-05-30-09-36-50-brush_teeth-f1.txt  \n",
            "  inflating: ./data/ground_truth/Truth_Accelerometer-2011-05-30-10-34-16-brush_teeth-m1.txt  \n",
            "  inflating: ./data/ground_truth/Truth_Accelerometer-2011-05-30-21-10-57-brush_teeth-f1.txt  \n",
            "  inflating: ./data/ground_truth/Truth_Accelerometer-2011-05-30-21-55-04-brush_teeth-m2.txt  \n",
            "  inflating: ./data/ground_truth/Truth_Accelerometer-2011-05-31-15-16-47-brush_teeth-f1.txt  \n",
            "  inflating: ./data/ground_truth/Truth_Accelerometer-2011-06-02-10-42-22-brush_teeth-f1.txt  \n",
            "  inflating: ./data/ground_truth/Truth_Accelerometer-2011-06-02-10-45-50-brush_teeth-f1.txt  \n",
            "  inflating: ./data/ground_truth/Truth_Accelerometer-2011-06-06-10-45-27-brush_teeth-f1.txt  \n",
            "  inflating: ./data/ground_truth/Truth_Accelerometer-2011-06-06-10-48-05-brush_teeth-f1.txt  \n",
            "  inflating: ./data/raw_traces/Accelerometer-2011-04-11-13-28-18-brush_teeth-f1.txt  \n",
            "  inflating: ./data/raw_traces/Accelerometer-2011-04-11-13-29-54-brush_teeth-f1.txt  \n",
            "  inflating: ./data/raw_traces/Accelerometer-2011-05-30-08-35-11-brush_teeth-f1.txt  \n",
            "  inflating: ./data/raw_traces/Accelerometer-2011-05-30-09-36-50-brush_teeth-f1.txt  \n",
            "  inflating: ./data/raw_traces/Accelerometer-2011-05-30-10-34-16-brush_teeth-m1.txt  \n",
            "  inflating: ./data/raw_traces/Accelerometer-2011-05-30-21-10-57-brush_teeth-f1.txt  \n",
            "  inflating: ./data/raw_traces/Accelerometer-2011-05-30-21-55-04-brush_teeth-m2.txt  \n",
            "  inflating: ./data/raw_traces/Accelerometer-2011-05-31-15-16-47-brush_teeth-f1.txt  \n",
            "  inflating: ./data/raw_traces/Accelerometer-2011-06-02-10-42-22-brush_teeth-f1.txt  \n",
            "  inflating: ./data/raw_traces/Accelerometer-2011-06-02-10-45-50-brush_teeth-f1.txt  \n",
            "  inflating: ./data/raw_traces/Accelerometer-2011-06-06-10-45-27-brush_teeth-f1.txt  \n",
            "  inflating: ./data/raw_traces/Accelerometer-2011-06-06-10-48-05-brush_teeth-f1.txt  \n"
          ]
        }
      ]
    },
    {
      "cell_type": "markdown",
      "metadata": {
        "id": "ttgMIu8WCs2K"
      },
      "source": [
        "### Problem 1 (3 pts)\n",
        "\n",
        "In the cell below write a leave-one-out cross-validation procedure for the time series model described in `brush_indicator()`. Each iteration of training should optimize the model over all combinations of parameters $\\alpha \\in \\{0.1, 0.15, 0.2\\}$ and $\\text{threshold} \\in \\{7, 8, 9\\}$. Your code should print out an average testing error cost of `0.0140` as reported in lecture."
      ]
    },
    {
      "cell_type": "code",
      "metadata": {
        "colab": {
          "base_uri": "https://localhost:8080/"
        },
        "id": "md01kgn9EYz0",
        "outputId": "01a3cd6b-ff15-4beb-8445-cc499b5fdf90"
      },
      "source": [
        "## EDIT THE CODE IN THIS CELL\n",
        "\n",
        "alphas = [0.1, 0.15, 0.2]\n",
        "thresholds = [7, 8, 9]\n",
        "\n",
        "avg_testing_error_cost = 0\n",
        "total_testing_error_cost = 0\n",
        "for x in range(len(filenames)):\n",
        "  best_error = 1\n",
        "  best_alpha = 0\n",
        "  best_threshold = 0\n",
        "  for alpha in alphas:\n",
        "    for threshold in thresholds:\n",
        "      total = 0\n",
        "      for i in range (len(filenames)):\n",
        "        if not i == x:\n",
        "          total += error_cost_function(filenames[i], alpha, threshold)\n",
        "      error = total / (len(filenames) - 1)\n",
        "      if error < best_error:\n",
        "        best_alpha = alpha\n",
        "        best_threshold = threshold\n",
        "      best_error = min(best_error, error)\n",
        "  test_error = error_cost_function(filenames[x], best_alpha, best_threshold)\n",
        "  total_testing_error_cost += test_error\n",
        "\n",
        "avg_testing_error_cost = total_testing_error_cost / len(filenames)\n",
        "print(avg_testing_error_cost)"
      ],
      "execution_count": 2,
      "outputs": [
        {
          "output_type": "stream",
          "name": "stdout",
          "text": [
            "0.01403845008161896\n"
          ]
        }
      ]
    },
    {
      "cell_type": "markdown",
      "metadata": {
        "id": "2iT1iuHxF0HW"
      },
      "source": [
        "### Problem 2 (2 pts)\n",
        "\n",
        "Now that you have validated that the `brush_indicator()` model is sound, train the model using all the traces. As before you should optimize the model over all combinations of parameters $\\alpha \\in \\{0.1, 0.15, 0.2\\}$ and $\\text{threshold} \\in \\{7, 8, 9\\}$. Your code should print out the optimal values of $\\alpha$ and $\\text{threshold}$"
      ]
    },
    {
      "cell_type": "code",
      "metadata": {
        "colab": {
          "base_uri": "https://localhost:8080/"
        },
        "id": "2LPCJ_oHF81k",
        "outputId": "8889c81c-65ad-4a48-c450-14450ad4403c"
      },
      "source": [
        "## EDIT THE CODE IN THIS CELL\n",
        "\n",
        "alphas = [0.1, 0.15, 0.2]\n",
        "thresholds = [7, 8, 9]\n",
        "\n",
        "best_error = 1\n",
        "best_alpha = 0\n",
        "best_threshold = 0\n",
        "for alpha in alphas:\n",
        "  for threshold in thresholds:\n",
        "    total = 0\n",
        "    for i in range (len(filenames)):\n",
        "      total += error_cost_function(filenames[i], alpha, threshold)\n",
        "    error = total / len(filenames)\n",
        "    if error < best_error:\n",
        "      best_alpha = alpha\n",
        "      best_threshold = threshold\n",
        "      best_error = error\n",
        "  \n",
        "print('alpha =', best_alpha)\n",
        "print('threshold =', best_threshold)"
      ],
      "execution_count": 3,
      "outputs": [
        {
          "output_type": "stream",
          "name": "stdout",
          "text": [
            "alpha = 0.15\n",
            "threshold = 8\n"
          ]
        }
      ]
    },
    {
      "cell_type": "markdown",
      "metadata": {
        "id": "5mGvRZcSIpvA"
      },
      "source": [
        "### Problem 3 (3 pts)\n",
        "\n",
        "Complete the implementation of the `brush_indicator2()` model, so that it is identical to `brush_indicator()` except that it uses two thresholds as described in lecture.\n",
        "\n",
        "Then write a leave-one-out cross-validation procedure for `brush_indicator2()`. Fix $\\alpha$ to the value you determined in Problem 2. Each iteration of training should optimize the model over combinations of parameters $\\text{threshold_lo}, \\text{threshold_hi} \\in \\{7, 8, 9\\}$. Your code should print out an average testing error cost of `0.0113` as reported in lecture."
      ]
    },
    {
      "cell_type": "code",
      "metadata": {
        "colab": {
          "base_uri": "https://localhost:8080/"
        },
        "id": "3FBl8DivIi_Q",
        "outputId": "02f1e63d-3307-4928-cf0c-0cbd19518e2e"
      },
      "source": [
        "## EDIT THE CODE IN THIS CELL\n",
        "\n",
        "# Complete implementation of brush_indicator2() so that it uses two thresholds\n",
        "def brush_indicator2(filename, alpha, threshold_lo, threshold_hi):\n",
        "  acceleration = np.genfromtxt(path+filename).astype(float)\n",
        "  jerk = np.zeros(acceleration.shape)\n",
        "  jerk[1:,:] = acceleration[1:,:] - acceleration[:-1,:]\n",
        "  jerk_magnitude = np.sqrt(np.sum(jerk**2, axis=1))\n",
        "  smoothed = np.zeros(jerk_magnitude.shape)\n",
        "  smoothed[0] = jerk_magnitude[0]\n",
        "  for i in range(1, len(smoothed)):\n",
        "    smoothed[i] = alpha * jerk_magnitude[i] + (1-alpha) * smoothed[i-1]\n",
        "  indicator = np.zeros(smoothed.shape)\n",
        "\n",
        "  direction = False\n",
        "  for i in range(len(indicator)):\n",
        "    # continue not brushing\n",
        "    if (not direction) and (smoothed[i] < threshold_hi):\n",
        "        indicator[i] = 0\n",
        "    # change from not brushing to brushing\n",
        "    elif (not direction) and (smoothed[i] >= threshold_hi):\n",
        "        direction = True\n",
        "        indicator[i] = 1\n",
        "    # continue brushing\n",
        "    elif direction and (smoothed[i] > threshold_lo):\n",
        "        indicator[i] = 1\n",
        "    # change from brushing to not brushing\n",
        "    else:\n",
        "        direction = False\n",
        "        indicator[i] = 0\n",
        "\n",
        "  return indicator\n",
        "\n",
        "def error_cost_function2(filename, alpha, threshold_lo, threshold_hi):\n",
        "  indicator = brush_indicator2(filename, alpha, threshold_lo, threshold_hi)\n",
        "  ground_truth = np.genfromtxt(ground_truth_path + 'Truth_' + filename)\n",
        "  cost = np.sum(indicator != ground_truth)/len(indicator)\n",
        "  return cost\n",
        "\n",
        "\n",
        "# Write a leave-one-out cross-validation procedure for brush_indicator()\n",
        "thresholds = [7, 8, 9]\n",
        "\n",
        "avg_testing_error_cost = 0\n",
        "total_testing_error_cost = 0\n",
        "for x in range(len(filenames)):\n",
        "  best_error = 1\n",
        "  best_threshold_low = 0\n",
        "  best_threshold_high = 0\n",
        "  for threshold_low in thresholds:\n",
        "    for threshold_hi in thresholds:\n",
        "      total = 0\n",
        "      for i in range (len(filenames)):\n",
        "        if not i == x:\n",
        "          total += error_cost_function2(filenames[i], 0.15, threshold_low, threshold_hi)\n",
        "      error = total / (len(filenames) - 1)\n",
        "      if error < best_error:\n",
        "        best_threshold_low = threshold_low\n",
        "        best_threshold_high = threshold_hi\n",
        "      best_error = min(best_error, error)\n",
        "  test_error = error_cost_function2(filenames[x], 0.15, best_threshold_low, best_threshold_high)\n",
        "  total_testing_error_cost += test_error\n",
        "\n",
        "avg_testing_error_cost = total_testing_error_cost / len(filenames)\n",
        "\n",
        "print(avg_testing_error_cost)"
      ],
      "execution_count": 4,
      "outputs": [
        {
          "output_type": "stream",
          "name": "stdout",
          "text": [
            "0.011318174889272446\n"
          ]
        }
      ]
    },
    {
      "cell_type": "markdown",
      "metadata": {
        "id": "arlhUJWtQk-u"
      },
      "source": [
        "### Problem 4 (1 pt)\n",
        "\n",
        "Train the `brush_indicator2()` model using all the traces. As before fix $\\alpha$ to the value you determined in Problem 2, and optimize the model over combinations of parameters $\\text{threshold_lo}, \\text{threshold_hi} \\in \\{7, 8, 9\\}$. Your code should print out the optimal values of $\\text{threshold_lo}$ and $\\text{threshold_hi}$."
      ]
    },
    {
      "cell_type": "code",
      "metadata": {
        "colab": {
          "base_uri": "https://localhost:8080/"
        },
        "id": "LtNlQkHxNY0k",
        "outputId": "faf54e9e-06b5-4d05-fb77-7a8be505044e"
      },
      "source": [
        "## EDIT THE CODE IN THIS CELL\n",
        "\n",
        "thresholds = [7, 8, 9]\n",
        "\n",
        "best_error = 1\n",
        "best_threshold_high = 0\n",
        "best_threshold_low = 0\n",
        "for threshold_high in thresholds:\n",
        "  for threshold_low in thresholds:\n",
        "    total = 0\n",
        "    for i in range (len(filenames)):\n",
        "      total += error_cost_function2(filenames[i], 0.15, threshold_low, threshold_high)\n",
        "    error = total / len(filenames)\n",
        "    if error < best_error:\n",
        "      best_threshold_low = threshold_low\n",
        "      best_threshold_high = threshold_high\n",
        "      best_error = error\n",
        "\n",
        "print('threshold_lo =', best_threshold_low)\n",
        "print('threshold_hi =', best_threshold_high)"
      ],
      "execution_count": 5,
      "outputs": [
        {
          "output_type": "stream",
          "name": "stdout",
          "text": [
            "threshold_lo = 7\n",
            "threshold_hi = 9\n"
          ]
        }
      ]
    },
    {
      "cell_type": "markdown",
      "metadata": {
        "id": "8QNILjGlOGzy"
      },
      "source": [
        "### Problem 5 (1 pt)\n",
        "\n",
        "Write code that prints out the average time (in seconds) that the volunteer `f1` spends actively brushing her teeth according to:\n",
        "*   the ground truth\n",
        "*   the `brush_indicator()` model with parameters you found in Problem 2\n",
        "*   the `brush_indicator2()` model with parameters you found in Problem 4"
      ]
    },
    {
      "cell_type": "code",
      "metadata": {
        "colab": {
          "base_uri": "https://localhost:8080/"
        },
        "id": "Qu_K_a9oRsDL",
        "outputId": "2b79f850-439f-406d-97a1-82ea46785d82"
      },
      "source": [
        "## EDIT THE CODE IN THIS CELL\n",
        "\n",
        "avg_time_f1_ground_truth = 0\n",
        "avg_time_f1_brush_indicator = 0\n",
        "avg_time_f1_brush_indicator2 = 0\n",
        "\n",
        "total_time_f1_ground_truth = 0\n",
        "total_time_f1_brush_indicator = 0\n",
        "total_time_f1_brush_indicator2 = 0\n",
        "\n",
        "rate = 32\n",
        "\n",
        "count = 0\n",
        "for filename in filenames:\n",
        "  if filename[-6:] == \"f1.txt\":\n",
        "    count += 1\n",
        "    ground_truth_indicator = np.genfromtxt(ground_truth_path + 'Truth_' + filename)\n",
        "    for truth in ground_truth_indicator:\n",
        "      if truth == 1:\n",
        "        total_time_f1_ground_truth += 1\n",
        "    brush = brush_indicator(filename, 0.15, 8)\n",
        "    for x in brush:\n",
        "      if x == 1:\n",
        "        total_time_f1_brush_indicator += 1\n",
        "    brush2 = brush_indicator2(filename, 0.15, 7, 9)\n",
        "    for x in brush2:\n",
        "      if x == 1:\n",
        "        total_time_f1_brush_indicator2 += 1\n",
        "\n",
        "avg_time_f1_ground_truth = (total_time_f1_ground_truth / count) / 32\n",
        "avg_time_f1_brush_indicator = (total_time_f1_brush_indicator / count) / 32\n",
        "avg_time_f1_brush_indicator2 = (total_time_f1_brush_indicator2 / count) / 32\n",
        "print('Average brushing time for f1 (ground truth) =', \n",
        "      avg_time_f1_ground_truth, 'seconds')\n",
        "print('Average brushing time for f1 (brush_indicator) =', \n",
        "      avg_time_f1_brush_indicator, 'seconds')\n",
        "print('Average brushing time for f1 (brush_indicator2) =', \n",
        "      avg_time_f1_brush_indicator2, 'seconds')"
      ],
      "execution_count": 6,
      "outputs": [
        {
          "output_type": "stream",
          "name": "stdout",
          "text": [
            "Average brushing time for f1 (ground truth) = 44.465625 seconds\n",
            "Average brushing time for f1 (brush_indicator) = 44.271875 seconds\n",
            "Average brushing time for f1 (brush_indicator2) = 44.54375 seconds\n"
          ]
        }
      ]
    }
  ]
}